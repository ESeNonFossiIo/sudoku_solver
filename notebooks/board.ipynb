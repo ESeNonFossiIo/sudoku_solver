{
 "cells": [
  {
   "cell_type": "code",
   "execution_count": 2,
   "metadata": {},
   "outputs": [],
   "source": [
    "import sys\n",
    "import os\n",
    "from os.path import join, dirname, abspath\n",
    "# Get the directory containing the current Jupyter Notebook\n",
    "notebook_dir = dirname(abspath('__file__'))\n",
    "root_dir = dirname(join(notebook_dir, '..', '..'))\n",
    "# Append the directory to the Python path\n",
    "sys.path.append(root_dir)"
   ]
  },
  {
   "cell_type": "code",
   "execution_count": null,
   "metadata": {},
   "outputs": [],
   "source": [
    "%load_ext autoreload\n",
    "%autoreload 2"
   ]
  },
  {
   "cell_type": "code",
   "execution_count": null,
   "metadata": {},
   "outputs": [],
   "source": [
    "from sudoku import Board\n",
    "from sudoku.shell import print_board_difference"
   ]
  },
  {
   "cell_type": "code",
   "execution_count": null,
   "metadata": {},
   "outputs": [],
   "source": [
    "board = Board.random_board()\n",
    "first_board = board.get_board().copy()\n",
    "print(board)\n",
    "board.solve()\n",
    "second_board = board.get_board()\n",
    "print(board)"
   ]
  },
  {
   "cell_type": "code",
   "execution_count": null,
   "metadata": {},
   "outputs": [],
   "source": [
    "first_board"
   ]
  },
  {
   "cell_type": "code",
   "execution_count": null,
   "metadata": {},
   "outputs": [],
   "source": [
    "\n",
    "print_board_difference(first_board, second_board)"
   ]
  },
  {
   "cell_type": "code",
   "execution_count": null,
   "metadata": {},
   "outputs": [],
   "source": [
    "board = Board()\n",
    "board.set_matrix([[0, 0, 0, 6, 0, 3, 0, 0, 0,],\n",
    "                  [0, 6, 0, 9, 0, 0, 0, 0, 0,],\n",
    "                  [2, 7, 3, 0, 0, 0, 0, 0, 0,],\n",
    "                  [0, 0, 0, 4, 0, 0, 0, 0, 6,],\n",
    "                  [1, 0, 6, 0, 0, 0, 0, 0, 0,],\n",
    "                  [0, 0, 8, 0, 0, 5, 0, 3, 2,],\n",
    "                  [3, 0, 0, 7, 9, 0, 4, 0, 0,],\n",
    "                  [6, 0, 0, 0, 0, 0, 2, 1, 0,],\n",
    "                  [0, 5, 1, 0, 4, 0, 9, 0, 0,],\n",
    "                  ])\n",
    "print(board)\n",
    "board.solve()\n",
    "print(board, board.is_valid())"
   ]
  },
  {
   "cell_type": "code",
   "execution_count": null,
   "metadata": {},
   "outputs": [],
   "source": [
    "board.get_board()"
   ]
  },
  {
   "cell_type": "code",
   "execution_count": null,
   "metadata": {},
   "outputs": [],
   "source": []
  }
 ],
 "metadata": {
  "kernelspec": {
   "display_name": "base",
   "language": "python",
   "name": "python3"
  },
  "language_info": {
   "codemirror_mode": {
    "name": "ipython",
    "version": 3
   },
   "file_extension": ".py",
   "mimetype": "text/x-python",
   "name": "python",
   "nbconvert_exporter": "python",
   "pygments_lexer": "ipython3",
   "version": "3.9.12"
  }
 },
 "nbformat": 4,
 "nbformat_minor": 2
}
