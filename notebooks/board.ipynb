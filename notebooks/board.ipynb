{
 "cells": [
  {
   "cell_type": "code",
   "execution_count": 1,
   "metadata": {},
   "outputs": [],
   "source": [
    "import sys\n",
    "import os\n",
    "from os.path import join, dirname, abspath\n",
    "# Get the directory containing the current Jupyter Notebook\n",
    "notebook_dir = dirname(abspath('__file__'))\n",
    "root_dir = dirname(join(notebook_dir, '..', '..'))\n",
    "# Append the directory to the Python path\n",
    "sys.path.append(root_dir)"
   ]
  },
  {
   "cell_type": "code",
   "execution_count": null,
   "metadata": {},
   "outputs": [],
   "source": [
    "%load_ext autoreload\n",
    "%autoreload 2"
   ]
  },
  {
   "cell_type": "code",
   "execution_count": 3,
   "metadata": {},
   "outputs": [],
   "source": [
    "from sudoku.board import Board"
   ]
  },
  {
   "cell_type": "code",
   "execution_count": 36,
   "metadata": {},
   "outputs": [],
   "source": [
    "board = Board()\n",
    "board = board.random_board()\n",
    "print(board)"
   ]
  },
  {
   "cell_type": "code",
   "execution_count": null,
   "metadata": {},
   "outputs": [],
   "source": [
    "board = Board()\n",
    "board.set_matrix([[0, 0, 0, 0, 0, 0, 0, 0, 0,],\n",
    "                  [0, 0, 8, 0, 0, 0, 3, 0, 0,],\n",
    "                  [0, 3, 0, 2, 0, 5, 0, 8, 0,],\n",
    "                  [0, 0, 0, 0, 1, 0, 0, 0, 0,],\n",
    "                  [0, 0, 6, 4, 0, 8, 1, 0, 0,],\n",
    "                  [0, 4, 0, 0, 2, 0, 0, 9, 0,],\n",
    "                  [8, 0, 0, 0, 0, 0, 0, 0, 3,],\n",
    "                  [7, 0, 0, 3, 0, 1, 0, 0, 5,],\n",
    "                  [5, 6, 3, 0, 4, 0, 7, 2, 1,],\n",
    "                  ])\n",
    "board.solve()\n",
    "print(board, board.isValid())"
   ]
  },
  {
   "cell_type": "code",
   "execution_count": null,
   "metadata": {},
   "outputs": [],
   "source": [
    "board = Board()\n",
    "board.set_matrix([[0, 0, 0, 6, 0, 3, 0, 0, 0,],\n",
    "                  [0, 6, 0, 9, 0, 0, 0, 0, 0,],\n",
    "                  [2, 7, 3, 0, 0, 0, 0, 0, 0,],\n",
    "                  [0, 0, 0, 4, 0, 0, 0, 0, 6,],\n",
    "                  [1, 0, 6, 0, 0, 0, 0, 0, 0,],\n",
    "                  [0, 0, 8, 0, 0, 5, 0, 3, 2,],\n",
    "                  [3, 0, 0, 7, 9, 0, 4, 0, 0,],\n",
    "                  [6, 0, 0, 0, 0, 0, 2, 1, 0,],\n",
    "                  [0, 5, 1, 0, 4, 0, 9, 0, 0,],\n",
    "                  ])\n",
    "print(board)\n",
    "board.solve()\n",
    "print(board, board.isValid())"
   ]
  }
 ],
 "metadata": {
  "kernelspec": {
   "display_name": "base",
   "language": "python",
   "name": "python3"
  },
  "language_info": {
   "codemirror_mode": {
    "name": "ipython",
    "version": 3
   },
   "file_extension": ".py",
   "mimetype": "text/x-python",
   "name": "python",
   "nbconvert_exporter": "python",
   "pygments_lexer": "ipython3",
   "version": "3.9.12"
  }
 },
 "nbformat": 4,
 "nbformat_minor": 2
}
