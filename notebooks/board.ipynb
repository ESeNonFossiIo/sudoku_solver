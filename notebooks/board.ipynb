{
 "cells": [
  {
   "cell_type": "code",
   "execution_count": 50,
   "metadata": {},
   "outputs": [],
   "source": [
    "import sys\n",
    "import os\n",
    "from os.path import join, dirname, abspath\n",
    "# Get the directory containing the current Jupyter Notebook\n",
    "notebook_dir = dirname(abspath('__file__'))\n",
    "root_dir = dirname(join(notebook_dir, '..', '..'))\n",
    "# Append the directory to the Python path\n",
    "sys.path.append(root_dir)"
   ]
  },
  {
   "cell_type": "code",
   "execution_count": 51,
   "metadata": {},
   "outputs": [
    {
     "name": "stdout",
     "output_type": "stream",
     "text": [
      "The autoreload extension is already loaded. To reload it, use:\n",
      "  %reload_ext autoreload\n"
     ]
    }
   ],
   "source": [
    "%load_ext autoreload\n",
    "%autoreload 2"
   ]
  },
  {
   "cell_type": "code",
   "execution_count": 52,
   "metadata": {},
   "outputs": [
    {
     "data": {
      "text/plain": [
       "(True,\n",
       " array([[6, 8, 9, 3, 2, 7, 5, 1, 4],\n",
       "        [4, 7, 3, 5, 9, 1, 6, 2, 8],\n",
       "        [1, 5, 2, 4, 6, 8, 9, 7, 3],\n",
       "        [9, 2, 5, 7, 8, 6, 3, 4, 1],\n",
       "        [3, 6, 7, 9, 1, 4, 2, 8, 5],\n",
       "        [8, 4, 1, 2, 5, 3, 7, 9, 6],\n",
       "        [7, 9, 4, 8, 3, 5, 1, 6, 2],\n",
       "        [2, 3, 6, 1, 4, 9, 8, 5, 7],\n",
       "        [5, 1, 8, 6, 7, 2, 4, 3, 9]]))"
      ]
     },
     "execution_count": 52,
     "metadata": {},
     "output_type": "execute_result"
    }
   ],
   "source": [
    "from sudoku.board import _generate_rnd_board_using_backtracking\n",
    "_generate_rnd_board_using_backtracking()"
   ]
  },
  {
   "cell_type": "code",
   "execution_count": 53,
   "metadata": {},
   "outputs": [],
   "source": [
    "from sudoku import Board\n",
    "from sudoku.board import print_board_difference"
   ]
  },
  {
   "cell_type": "code",
   "execution_count": 54,
   "metadata": {},
   "outputs": [
    {
     "name": "stdout",
     "output_type": "stream",
     "text": [
      "+---------+---------+---------+\n",
      "|       2 | 3     1 |         |\n",
      "| 5       |         |       9 |\n",
      "|    6    | 9  2    |         |\n",
      "+---------+---------+---------+\n",
      "| 8       |         |    4    |\n",
      "|       7 |    1  4 |       3 |\n",
      "|         |    3  7 | 5  2    |\n",
      "+---------+---------+---------+\n",
      "| 9  3    | 2       |    8    |\n",
      "| 4  8    |         |         |\n",
      "|       5 |       9 |         |\n",
      "+---------+---------+---------+\n",
      "\n",
      "+---------+---------+---------+\n",
      "| 7  9  2 | 3  4  1 | 6  5  8 |\n",
      "| 5  1  4 | 7  6  8 | 2  3  9 |\n",
      "| 3  6  8 | 9  2  5 | 7  1  4 |\n",
      "+---------+---------+---------+\n",
      "| 8  5  3 | 6  9  2 | 1  4  7 |\n",
      "| 6  2  7 | 5  1  4 | 8  9  3 |\n",
      "| 1  4  9 | 8  3  7 | 5  2  6 |\n",
      "+---------+---------+---------+\n",
      "| 9  3  1 | 2  7  6 | 4  8  5 |\n",
      "| 4  8  6 | 1  5  3 | 9  7  2 |\n",
      "| 2  7  5 | 4  8  9 | 3  6  1 |\n",
      "+---------+---------+---------+\n",
      "\n"
     ]
    }
   ],
   "source": [
    "board = Board.random_board()\n",
    "first_board = board.get_board().copy()\n",
    "print(board)\n",
    "board.solve()\n",
    "second_board = board.get_board()\n",
    "print(board)"
   ]
  },
  {
   "cell_type": "code",
   "execution_count": 55,
   "metadata": {},
   "outputs": [
    {
     "data": {
      "text/plain": [
       "array([[0, 0, 2, 3, 0, 1, 0, 0, 0],\n",
       "       [5, 0, 0, 0, 0, 0, 0, 0, 9],\n",
       "       [0, 6, 0, 9, 2, 0, 0, 0, 0],\n",
       "       [8, 0, 0, 0, 0, 0, 0, 4, 0],\n",
       "       [0, 0, 7, 0, 1, 4, 0, 0, 3],\n",
       "       [0, 0, 0, 0, 3, 7, 5, 2, 0],\n",
       "       [9, 3, 0, 2, 0, 0, 0, 8, 0],\n",
       "       [4, 8, 0, 0, 0, 0, 0, 0, 0],\n",
       "       [0, 0, 5, 0, 0, 9, 0, 0, 0]])"
      ]
     },
     "execution_count": 55,
     "metadata": {},
     "output_type": "execute_result"
    }
   ],
   "source": [
    "first_board"
   ]
  },
  {
   "cell_type": "code",
   "execution_count": 57,
   "metadata": {},
   "outputs": [
    {
     "name": "stdout",
     "output_type": "stream",
     "text": [
      "+---------+---------+---------+\n",
      "|\u001b[31m 7 \u001b[0m\u001b[31m 9 \u001b[0m\u001b[1m 2 \u001b[0m|\u001b[1m 3 \u001b[0m\u001b[31m 4 \u001b[0m\u001b[1m 1 \u001b[0m|\u001b[31m 6 \u001b[0m\u001b[31m 5 \u001b[0m\u001b[31m 8 \u001b[0m|\n",
      "|\u001b[1m 5 \u001b[0m\u001b[31m 1 \u001b[0m\u001b[31m 4 \u001b[0m|\u001b[31m 7 \u001b[0m\u001b[31m 6 \u001b[0m\u001b[31m 8 \u001b[0m|\u001b[31m 2 \u001b[0m\u001b[31m 3 \u001b[0m\u001b[1m 9 \u001b[0m|\n",
      "|\u001b[31m 3 \u001b[0m\u001b[1m 6 \u001b[0m\u001b[31m 8 \u001b[0m|\u001b[1m 9 \u001b[0m\u001b[1m 2 \u001b[0m\u001b[31m 5 \u001b[0m|\u001b[31m 7 \u001b[0m\u001b[31m 1 \u001b[0m\u001b[31m 4 \u001b[0m|\n",
      "+---------+---------+---------+\n",
      "|\u001b[1m 8 \u001b[0m\u001b[31m 5 \u001b[0m\u001b[31m 3 \u001b[0m|\u001b[31m 6 \u001b[0m\u001b[31m 9 \u001b[0m\u001b[31m 2 \u001b[0m|\u001b[31m 1 \u001b[0m\u001b[1m 4 \u001b[0m\u001b[31m 7 \u001b[0m|\n",
      "|\u001b[31m 6 \u001b[0m\u001b[31m 2 \u001b[0m\u001b[1m 7 \u001b[0m|\u001b[31m 5 \u001b[0m\u001b[1m 1 \u001b[0m\u001b[1m 4 \u001b[0m|\u001b[31m 8 \u001b[0m\u001b[31m 9 \u001b[0m\u001b[1m 3 \u001b[0m|\n",
      "|\u001b[31m 1 \u001b[0m\u001b[31m 4 \u001b[0m\u001b[31m 9 \u001b[0m|\u001b[31m 8 \u001b[0m\u001b[1m 3 \u001b[0m\u001b[1m 7 \u001b[0m|\u001b[1m 5 \u001b[0m\u001b[1m 2 \u001b[0m\u001b[31m 6 \u001b[0m|\n",
      "+---------+---------+---------+\n",
      "|\u001b[1m 9 \u001b[0m\u001b[1m 3 \u001b[0m\u001b[31m 1 \u001b[0m|\u001b[1m 2 \u001b[0m\u001b[31m 7 \u001b[0m\u001b[31m 6 \u001b[0m|\u001b[31m 4 \u001b[0m\u001b[1m 8 \u001b[0m\u001b[31m 5 \u001b[0m|\n",
      "|\u001b[1m 4 \u001b[0m\u001b[1m 8 \u001b[0m\u001b[31m 6 \u001b[0m|\u001b[31m 1 \u001b[0m\u001b[31m 5 \u001b[0m\u001b[31m 3 \u001b[0m|\u001b[31m 9 \u001b[0m\u001b[31m 7 \u001b[0m\u001b[31m 2 \u001b[0m|\n",
      "|\u001b[31m 2 \u001b[0m\u001b[31m 7 \u001b[0m\u001b[1m 5 \u001b[0m|\u001b[31m 4 \u001b[0m\u001b[31m 8 \u001b[0m\u001b[1m 9 \u001b[0m|\u001b[31m 3 \u001b[0m\u001b[31m 6 \u001b[0m\u001b[31m 1 \u001b[0m|\n",
      "+---------+---------+---------+\n"
     ]
    }
   ],
   "source": [
    "print_board_difference(first_board, second_board)"
   ]
  },
  {
   "cell_type": "code",
   "execution_count": null,
   "metadata": {},
   "outputs": [],
   "source": [
    "board = Board()\n",
    "board.set_matrix([[0, 0, 0, 0, 0, 0, 0, 0, 0,],\n",
    "                  [0, 0, 8, 0, 0, 0, 3, 0, 0,],\n",
    "                  [0, 3, 0, 2, 0, 5, 0, 8, 0,],\n",
    "                  [0, 0, 0, 0, 1, 0, 0, 0, 0,],\n",
    "                  [0, 0, 6, 4, 0, 8, 1, 0, 0,],\n",
    "                  [0, 4, 0, 0, 2, 0, 0, 9, 0,],\n",
    "                  [8, 0, 0, 0, 0, 0, 0, 0, 3,],\n",
    "                  [7, 0, 0, 3, 0, 1, 0, 0, 5,],\n",
    "                  [5, 6, 3, 0, 4, 0, 7, 2, 1,],\n",
    "                  ])\n",
    "board.solve()\n",
    "print(board, board.isValid())"
   ]
  },
  {
   "cell_type": "code",
   "execution_count": null,
   "metadata": {},
   "outputs": [],
   "source": [
    "board = Board()\n",
    "board.set_matrix([[0, 0, 0, 6, 0, 3, 0, 0, 0,],\n",
    "                  [0, 6, 0, 9, 0, 0, 0, 0, 0,],\n",
    "                  [2, 7, 3, 0, 0, 0, 0, 0, 0,],\n",
    "                  [0, 0, 0, 4, 0, 0, 0, 0, 6,],\n",
    "                  [1, 0, 6, 0, 0, 0, 0, 0, 0,],\n",
    "                  [0, 0, 8, 0, 0, 5, 0, 3, 2,],\n",
    "                  [3, 0, 0, 7, 9, 0, 4, 0, 0,],\n",
    "                  [6, 0, 0, 0, 0, 0, 2, 1, 0,],\n",
    "                  [0, 5, 1, 0, 4, 0, 9, 0, 0,],\n",
    "                  ])\n",
    "print(board)\n",
    "board.solve()\n",
    "print(board, board.isValid())"
   ]
  }
 ],
 "metadata": {
  "kernelspec": {
   "display_name": "base",
   "language": "python",
   "name": "python3"
  },
  "language_info": {
   "codemirror_mode": {
    "name": "ipython",
    "version": 3
   },
   "file_extension": ".py",
   "mimetype": "text/x-python",
   "name": "python",
   "nbconvert_exporter": "python",
   "pygments_lexer": "ipython3",
   "version": "3.9.12"
  }
 },
 "nbformat": 4,
 "nbformat_minor": 2
}
