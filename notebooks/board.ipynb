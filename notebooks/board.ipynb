{
 "cells": [
  {
   "cell_type": "code",
   "execution_count": 37,
   "metadata": {},
   "outputs": [],
   "source": [
    "import sys\n",
    "import os\n",
    "from os.path import join, dirname, abspath\n",
    "# Get the directory containing the current Jupyter Notebook\n",
    "notebook_dir = dirname(abspath('__file__'))\n",
    "root_dir = dirname(join(notebook_dir, '..', '..'))\n",
    "# Append the directory to the Python path\n",
    "sys.path.append(root_dir)"
   ]
  },
  {
   "cell_type": "code",
   "execution_count": 38,
   "metadata": {},
   "outputs": [
    {
     "name": "stdout",
     "output_type": "stream",
     "text": [
      "The autoreload extension is already loaded. To reload it, use:\n",
      "  %reload_ext autoreload\n"
     ]
    }
   ],
   "source": [
    "%load_ext autoreload\n",
    "%autoreload 2"
   ]
  },
  {
   "cell_type": "code",
   "execution_count": 39,
   "metadata": {},
   "outputs": [],
   "source": [
    "from sudoku.board import Board"
   ]
  },
  {
   "cell_type": "code",
   "execution_count": 40,
   "metadata": {},
   "outputs": [
    {
     "name": "stdout",
     "output_type": "stream",
     "text": [
      "+---------+---------+---------+\n",
      "| 0  0  0 | 0  0  0 | 0  0  0 |\n",
      "| 0  0  0 | 0  0  0 | 0  0  0 |\n",
      "| 0  0  0 | 0  0  0 | 0  0  0 |\n",
      "+---------+---------+---------+\n",
      "| 0  0  0 | 0  0  0 | 0  0  0 |\n",
      "| 0  0  0 | 0  0  0 | 0  0  0 |\n",
      "| 0  0  0 | 0  0  0 | 0  0  0 |\n",
      "+---------+---------+---------+\n",
      "| 0  0  0 | 0  0  0 | 0  0  0 |\n",
      "| 0  0  0 | 0  0  0 | 0  0  0 |\n",
      "| 0  0  0 | 0  0  0 | 0  0  0 |\n",
      "+---------+---------+---------+\n",
      "\n"
     ]
    }
   ],
   "source": [
    "board = Board()\n",
    "board.set_matrix([[0, 0, 0, 0, 0, 0, 0, 0, 0,],\n",
    "                  [0, 0, 0, 0, 0, 0, 0, 0, 0,],\n",
    "                  [0, 0, 0, 0, 0, 0, 0, 0, 0,],\n",
    "                  [0, 0, 0, 0, 0, 0, 0, 0, 0,],\n",
    "                  [0, 0, 0, 0, 0, 0, 0, 0, 0,],\n",
    "                  [0, 0, 0, 0, 0, 0, 0, 0, 0,],\n",
    "                  [0, 0, 0, 0, 0, 0, 0, 0, 0,],\n",
    "                  [0, 0, 0, 0, 0, 0, 0, 0, 0,],\n",
    "                  [0, 0, 0, 0, 0, 0, 0, 0, 0,],\n",
    "                  ])\n",
    "print(board)"
   ]
  },
  {
   "cell_type": "code",
   "execution_count": 133,
   "metadata": {},
   "outputs": [
    {
     "name": "stdout",
     "output_type": "stream",
     "text": [
      "+---------+---------+---------+\n",
      "| 1       |         |         |\n",
      "|         |         |         |\n",
      "|         | 1       |         |\n",
      "+---------+---------+---------+\n",
      "|         |         | 1       |\n",
      "|         |         |         |\n",
      "|         |         |         |\n",
      "+---------+---------+---------+\n",
      "|         |         |       1 |\n",
      "|         |         |         |\n",
      "|         |         |         |\n",
      "+---------+---------+---------+\n",
      "\n"
     ]
    }
   ],
   "source": [
    "board.set_matrix([[1, 0, 0, 0, 0, 0, 0, 0, 0,],\n",
    "                  [0, 0, 0, 0, 0, 0, 0, 0, 0,],\n",
    "                  [0, 0, 0, 1, 0, 0, 0, 0, 0,],\n",
    "                  [0, 0, 0, 0, 0, 0, 1, 0, 0,],\n",
    "                  [0, 0, 0, 0, 0, 0, 0, 0, 0,],\n",
    "                  [0, 0, 0, 0, 0, 0, 0, 0, 0,],\n",
    "                  [0, 0, 0, 0, 0, 0, 0, 0, 1,],\n",
    "                  [0, 0, 0, 0, 0, 0, 0, 0, 0,],\n",
    "                  [0, 0, 0, 0, 0, 0, 0, 0, 0,],\n",
    "                  ])\n",
    "print(board)"
   ]
  },
  {
   "cell_type": "code",
   "execution_count": 45,
   "metadata": {},
   "outputs": [
    {
     "name": "stdout",
     "output_type": "stream",
     "text": [
      "+---------+---------+---------+\n",
      "| 1  0  0 | 0  0  0 | 0  0  0 |\n",
      "| 0  0  0 | 0  0  0 | 0  1  0 |\n",
      "| 0  0  0 | 1  0  0 | 0  0  0 |\n",
      "+---------+---------+---------+\n",
      "| 0  0  0 | 0  0  0 | 1  0  0 |\n",
      "| 0  0  0 | 0  0  0 | 0  0  0 |\n",
      "| 0  0  0 | 0  0  0 | 0  0  0 |\n",
      "+---------+---------+---------+\n",
      "| 0  0  0 | 0  0  0 | 0  0  1 |\n",
      "| 0  0  0 | 0  0  0 | 0  0  0 |\n",
      "| 0  0  0 | 0  0  0 | 0  0  0 |\n",
      "+---------+---------+---------+\n",
      "\n",
      "+---------+---------+---------+\n",
      "| X       |         |         |\n",
      "|         |         |    X    |\n",
      "|         | X       |         |\n",
      "+---------+---------+---------+\n",
      "|         |         | X       |\n",
      "|    X  X |    X  X |         |\n",
      "|    X  X |    X  X |         |\n",
      "+---------+---------+---------+\n",
      "|         |         |       X |\n",
      "|    X  X |    X  X |         |\n",
      "|    X  X |    X  X |         |\n",
      "+---------+---------+---------+\n",
      "\n"
     ]
    }
   ],
   "source": [
    "board.discover_values()\n",
    "print(board)\n",
    "print(board.values_matrix(1))"
   ]
  },
  {
   "cell_type": "code",
   "execution_count": 12,
   "metadata": {},
   "outputs": [
    {
     "data": {
      "text/markdown": [
       "+---------+---------+---------+\n",
       "| 0  0  0 | 0  0  0 | 0  0  0 |\n",
       "| 0  0  0 | 0  0  0 | 0  0  0 |\n",
       "| 0  0  0 | 0  0  0 | 0  0  0 |\n",
       "+---------+---------+---------+\n",
       "| 0  0  0 | 0  0  0 | 0  0  0 |\n",
       "| 0  0  0 | 0  0  0 | 0  0  0 |\n",
       "| 0  0  0 | 0  0  0 | 0  0  0 |\n",
       "+---------+---------+---------+\n",
       "| 0  0  0 | 0  0  0 | 0  0  0 |\n",
       "| 0  0  0 | 0  0  0 | 0  0  0 |\n",
       "| 0  0  0 | 0  0  0 | 0  0  0 |\n",
       "+---------+---------+---------+\n"
      ],
      "text/plain": [
       "<IPython.core.display.Markdown object>"
      ]
     },
     "metadata": {},
     "output_type": "display_data"
    }
   ],
   "source": [
    "# from IPython.display import Markdown, display\n",
    "# display(Markdown(str(board)))"
   ]
  },
  {
   "cell_type": "code",
   "execution_count": 128,
   "metadata": {},
   "outputs": [
    {
     "name": "stdout",
     "output_type": "stream",
     "text": [
      "+---------+---------+---------+\n",
      "|         |         |         |\n",
      "|       8 |         | 3       |\n",
      "|    3    | 2     5 |    8    |\n",
      "+---------+---------+---------+\n",
      "|         |    1    |         |\n",
      "|       6 | 4     8 | 1       |\n",
      "|    4    |    2    |    9    |\n",
      "+---------+---------+---------+\n",
      "| 8       |         |       3 |\n",
      "| 7       | 3     1 |       5 |\n",
      "| 5  6  3 |    4    | 7  2  1 |\n",
      "+---------+---------+---------+\n",
      "\n"
     ]
    }
   ],
   "source": [
    "board.set_matrix([[0, 0, 0, 0, 0, 0, 0, 0, 0,],\n",
    "                  [0, 0, 8, 0, 0, 0, 3, 0, 0,],\n",
    "                  [0, 3, 0, 2, 0, 5, 0, 8, 0,],\n",
    "                  [0, 0, 0, 0, 1, 0, 0, 0, 0,],\n",
    "                  [0, 0, 6, 4, 0, 8, 1, 0, 0,],\n",
    "                  [0, 4, 0, 0, 2, 0, 0, 9, 0,],\n",
    "                  [8, 0, 0, 0, 0, 0, 0, 0, 3,],\n",
    "                  [7, 0, 0, 3, 0, 1, 0, 0, 5,],\n",
    "                  [5, 6, 3, 0, 4, 0, 7, 2, 1,],\n",
    "                  ])\n",
    "print(board)"
   ]
  },
  {
   "cell_type": "code",
   "execution_count": 129,
   "metadata": {},
   "outputs": [
    {
     "name": "stdout",
     "output_type": "stream",
     "text": [
      "+---------+---------+---------+\n",
      "| 4  7  5 | 6  8  3 | 2  1  9 |\n",
      "| 6  2  8 | 1  9  4 | 3  5  7 |\n",
      "| 1  3  9 | 2  7  5 | 4  8  6 |\n",
      "+---------+---------+---------+\n",
      "| 2  8  7 | 9  1  6 | 5  3  4 |\n",
      "| 9  5  6 | 4  3  8 | 1  7  2 |\n",
      "| 3  4  1 | 5  2  7 | 6  9  8 |\n",
      "+---------+---------+---------+\n",
      "| 8  1  4 | 7  5  2 | 9  6  3 |\n",
      "| 7  9  2 | 3  6  1 | 8  4  5 |\n",
      "| 5  6  3 | 8  4  9 | 7  2  1 |\n",
      "+---------+---------+---------+\n",
      "\n"
     ]
    }
   ],
   "source": [
    "board.solve()    \n",
    "print(board)"
   ]
  },
  {
   "cell_type": "code",
   "execution_count": 130,
   "metadata": {},
   "outputs": [
    {
     "data": {
      "text/plain": [
       "True"
      ]
     },
     "execution_count": 130,
     "metadata": {},
     "output_type": "execute_result"
    }
   ],
   "source": [
    "board.isValid()"
   ]
  }
 ],
 "metadata": {
  "kernelspec": {
   "display_name": "base",
   "language": "python",
   "name": "python3"
  },
  "language_info": {
   "codemirror_mode": {
    "name": "ipython",
    "version": 3
   },
   "file_extension": ".py",
   "mimetype": "text/x-python",
   "name": "python",
   "nbconvert_exporter": "python",
   "pygments_lexer": "ipython3",
   "version": "3.9.12"
  }
 },
 "nbformat": 4,
 "nbformat_minor": 2
}
