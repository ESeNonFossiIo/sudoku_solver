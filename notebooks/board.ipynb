{
 "cells": [
  {
   "cell_type": "code",
   "execution_count": 1,
   "metadata": {},
   "outputs": [],
   "source": [
    "import sys\n",
    "import os\n",
    "from os.path import join, dirname, abspath\n",
    "# Get the directory containing the current Jupyter Notebook\n",
    "notebook_dir = dirname(abspath('__file__'))\n",
    "root_dir = dirname(join(notebook_dir, '..', '..'))\n",
    "# Append the directory to the Python path\n",
    "sys.path.append(root_dir)"
   ]
  },
  {
   "cell_type": "code",
   "execution_count": 2,
   "metadata": {},
   "outputs": [],
   "source": [
    "%load_ext autoreload\n",
    "%autoreload 2"
   ]
  },
  {
   "cell_type": "code",
   "execution_count": 27,
   "metadata": {},
   "outputs": [],
   "source": [
    "from sudoku.board import Board"
   ]
  },
  {
   "cell_type": "code",
   "execution_count": 28,
   "metadata": {},
   "outputs": [
    {
     "name": "stdout",
     "output_type": "stream",
     "text": [
      "+---------+---------+---------+\n",
      "| 0  0  0 | 0  0  0 | 0  0  0 |\n",
      "| 0  0  0 | 0  0  0 | 0  0  0 |\n",
      "| 0  0  0 | 0  0  0 | 0  0  0 |\n",
      "+---------+---------+---------+\n",
      "| 0  0  0 | 0  0  0 | 0  0  0 |\n",
      "| 0  0  0 | 0  0  0 | 0  0  0 |\n",
      "| 0  0  0 | 0  0  0 | 0  0  0 |\n",
      "+---------+---------+---------+\n",
      "| 0  0  0 | 0  0  0 | 0  0  0 |\n",
      "| 0  0  0 | 0  0  0 | 0  0  0 |\n",
      "| 0  0  0 | 0  0  0 | 0  0  0 |\n",
      "+---------+---------+---------+\n",
      "\n"
     ]
    }
   ],
   "source": [
    "board = Board()\n",
    "board.set_matrix([[0, 0, 0, 0, 0, 0, 0, 0, 0,],\n",
    "                  [0, 0, 0, 0, 0, 0, 0, 0, 0,],\n",
    "                  [0, 0, 0, 0, 0, 0, 0, 0, 0,],\n",
    "                  [0, 0, 0, 0, 0, 0, 0, 0, 0,],\n",
    "                  [0, 0, 0, 0, 0, 0, 0, 0, 0,],\n",
    "                  [0, 0, 0, 0, 0, 0, 0, 0, 0,],\n",
    "                  [0, 0, 0, 0, 0, 0, 0, 0, 0,],\n",
    "                  [0, 0, 0, 0, 0, 0, 0, 0, 0,],\n",
    "                  [0, 0, 0, 0, 0, 0, 0, 0, 0,],\n",
    "                  ])\n",
    "print(board)"
   ]
  },
  {
   "cell_type": "code",
   "execution_count": 29,
   "metadata": {},
   "outputs": [
    {
     "name": "stdout",
     "output_type": "stream",
     "text": [
      "1 update\n",
      "1 update\n",
      "1 update\n",
      "1 update\n",
      "+---------+---------+---------+\n",
      "| 1  0  0 | 0  0  0 | 0  0  0 |\n",
      "| 0  0  0 | 0  0  0 | 0  0  0 |\n",
      "| 0  0  0 | 1  0  0 | 0  0  0 |\n",
      "+---------+---------+---------+\n",
      "| 0  0  0 | 0  0  0 | 1  0  0 |\n",
      "| 0  0  0 | 0  0  0 | 0  0  0 |\n",
      "| 0  0  0 | 0  0  0 | 0  0  0 |\n",
      "+---------+---------+---------+\n",
      "| 0  0  0 | 0  0  0 | 0  0  1 |\n",
      "| 0  0  0 | 0  0  0 | 0  0  0 |\n",
      "| 0  0  0 | 0  0  0 | 0  0  0 |\n",
      "+---------+---------+---------+\n",
      "\n"
     ]
    }
   ],
   "source": [
    "board.set_matrix([[1, 0, 0, 0, 0, 0, 0, 0, 0,],\n",
    "                  [0, 0, 0, 0, 0, 0, 0, 0, 0,],\n",
    "                  [0, 0, 0, 1, 0, 0, 0, 0, 0,],\n",
    "                  [0, 0, 0, 0, 0, 0, 1, 0, 0,],\n",
    "                  [0, 0, 0, 0, 0, 0, 0, 0, 0,],\n",
    "                  [0, 0, 0, 0, 0, 0, 0, 0, 0,],\n",
    "                  [0, 0, 0, 0, 0, 0, 0, 0, 1,],\n",
    "                  [0, 0, 0, 0, 0, 0, 0, 0, 0,],\n",
    "                  [0, 0, 0, 0, 0, 0, 0, 0, 0,],\n",
    "                  ])\n",
    "print(board)"
   ]
  },
  {
   "cell_type": "code",
   "execution_count": 30,
   "metadata": {},
   "outputs": [
    {
     "name": "stdout",
     "output_type": "stream",
     "text": [
      "1 update\n",
      "1 update\n",
      "1 update\n",
      "1 update\n",
      "0,   0,   0,   0,   0,   0,   0,   0,   0,   0,   0,   0,   0,   0,   0,   0,   0,   0,   0,   0,   0,   0,   0,   0,   0,   0,   0,   0,   0,   0,   0,   0,   0,   0,   0,   0,   0,   0,   0,   0,   0,   0,   0,   0,   0,   0,   0,   0,   0,   0,   0,   0,   0,   0,   0,   0,   0,   0,   0,   0,   0,   0,   0,   0,   0,   0,   0,   0,   0,   0,   0,   0,   0,   0,   0,   0,   0,   +---------+---------+---------+\n",
      "| 1  0  0 | 0  0  0 | 0  0  0 |\n",
      "| 0  0  0 | 0  0  0 | 0  0  0 |\n",
      "| 0  0  0 | 1  0  0 | 0  0  0 |\n",
      "+---------+---------+---------+\n",
      "| 0  0  0 | 0  0  0 | 1  0  0 |\n",
      "| 0  0  0 | 0  0  0 | 0  0  0 |\n",
      "| 0  0  0 | 0  0  0 | 0  0  0 |\n",
      "+---------+---------+---------+\n",
      "| 0  0  0 | 0  0  0 | 0  0  1 |\n",
      "| 0  0  0 | 0  0  0 | 0  0  0 |\n",
      "| 0  0  0 | 0  0  0 | 0  0  0 |\n",
      "+---------+---------+---------+\n",
      "\n"
     ]
    }
   ],
   "source": [
    "board.discover_values()\n",
    "print(board)"
   ]
  },
  {
   "cell_type": "code",
   "execution_count": 12,
   "metadata": {},
   "outputs": [
    {
     "data": {
      "text/markdown": [
       "+---------+---------+---------+\n",
       "| 0  0  0 | 0  0  0 | 0  0  0 |\n",
       "| 0  0  0 | 0  0  0 | 0  0  0 |\n",
       "| 0  0  0 | 0  0  0 | 0  0  0 |\n",
       "+---------+---------+---------+\n",
       "| 0  0  0 | 0  0  0 | 0  0  0 |\n",
       "| 0  0  0 | 0  0  0 | 0  0  0 |\n",
       "| 0  0  0 | 0  0  0 | 0  0  0 |\n",
       "+---------+---------+---------+\n",
       "| 0  0  0 | 0  0  0 | 0  0  0 |\n",
       "| 0  0  0 | 0  0  0 | 0  0  0 |\n",
       "| 0  0  0 | 0  0  0 | 0  0  0 |\n",
       "+---------+---------+---------+\n"
      ],
      "text/plain": [
       "<IPython.core.display.Markdown object>"
      ]
     },
     "metadata": {},
     "output_type": "display_data"
    }
   ],
   "source": [
    "# from IPython.display import Markdown, display\n",
    "# display(Markdown(str(board)))"
   ]
  },
  {
   "cell_type": "code",
   "execution_count": null,
   "metadata": {},
   "outputs": [],
   "source": []
  }
 ],
 "metadata": {
  "kernelspec": {
   "display_name": "base",
   "language": "python",
   "name": "python3"
  },
  "language_info": {
   "codemirror_mode": {
    "name": "ipython",
    "version": 3
   },
   "file_extension": ".py",
   "mimetype": "text/x-python",
   "name": "python",
   "nbconvert_exporter": "python",
   "pygments_lexer": "ipython3",
   "version": "3.9.12"
  }
 },
 "nbformat": 4,
 "nbformat_minor": 2
}
