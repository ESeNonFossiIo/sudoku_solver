{
 "cells": [
  {
   "cell_type": "code",
   "execution_count": 37,
   "metadata": {},
   "outputs": [],
   "source": [
    "import sys\n",
    "import os\n",
    "from os.path import join, dirname, abspath\n",
    "# Get the directory containing the current Jupyter Notebook\n",
    "notebook_dir = dirname(abspath('__file__'))\n",
    "root_dir = dirname(join(notebook_dir, '..', '..'))\n",
    "# Append the directory to the Python path\n",
    "sys.path.append(root_dir)"
   ]
  },
  {
   "cell_type": "code",
   "execution_count": null,
   "metadata": {},
   "outputs": [],
   "source": [
    "%load_ext autoreload\n",
    "%autoreload 2"
   ]
  },
  {
   "cell_type": "code",
   "execution_count": 39,
   "metadata": {},
   "outputs": [],
   "source": [
    "from sudoku.board import Board"
   ]
  },
  {
   "cell_type": "code",
   "execution_count": null,
   "metadata": {},
   "outputs": [],
   "source": [
    "board = Board()\n",
    "board.set_matrix([[0, 0, 0, 0, 0, 0, 0, 0, 0,],\n",
    "                  [0, 0, 0, 0, 0, 0, 0, 0, 0,],\n",
    "                  [0, 0, 0, 0, 0, 0, 0, 0, 0,],\n",
    "                  [0, 0, 0, 0, 0, 0, 0, 0, 0,],\n",
    "                  [0, 0, 0, 0, 0, 0, 0, 0, 0,],\n",
    "                  [0, 0, 0, 0, 0, 0, 0, 0, 0,],\n",
    "                  [0, 0, 0, 0, 0, 0, 0, 0, 0,],\n",
    "                  [0, 0, 0, 0, 0, 0, 0, 0, 0,],\n",
    "                  [0, 0, 0, 0, 0, 0, 0, 0, 0,],\n",
    "                  ])\n",
    "print(board)"
   ]
  },
  {
   "cell_type": "code",
   "execution_count": null,
   "metadata": {},
   "outputs": [],
   "source": [
    "board.set_matrix([[1, 0, 0, 0, 0, 0, 0, 0, 0,],\n",
    "                  [0, 0, 0, 0, 0, 0, 0, 0, 0,],\n",
    "                  [0, 0, 0, 1, 0, 0, 0, 0, 0,],\n",
    "                  [0, 0, 0, 0, 0, 0, 1, 0, 0,],\n",
    "                  [0, 0, 0, 0, 0, 0, 0, 0, 0,],\n",
    "                  [0, 0, 0, 0, 0, 0, 0, 0, 0,],\n",
    "                  [0, 0, 0, 0, 0, 0, 0, 0, 1,],\n",
    "                  [0, 0, 0, 0, 0, 0, 0, 0, 0,],\n",
    "                  [0, 0, 0, 0, 0, 0, 0, 0, 0,],\n",
    "                  ])\n",
    "print(board)"
   ]
  },
  {
   "cell_type": "code",
   "execution_count": null,
   "metadata": {},
   "outputs": [],
   "source": [
    "board.discover_values()\n",
    "print(board)\n",
    "print(board.values_matrix(1))"
   ]
  },
  {
   "cell_type": "code",
   "execution_count": null,
   "metadata": {},
   "outputs": [],
   "source": [
    "# from IPython.display import Markdown, display\n",
    "# display(Markdown(str(board)))"
   ]
  },
  {
   "cell_type": "code",
   "execution_count": null,
   "metadata": {},
   "outputs": [],
   "source": [
    "board.set_matrix([[0, 0, 0, 0, 0, 0, 0, 0, 0,],\n",
    "                  [0, 0, 8, 0, 0, 0, 3, 0, 0,],\n",
    "                  [0, 3, 0, 2, 0, 5, 0, 8, 0,],\n",
    "                  [0, 0, 0, 0, 1, 0, 0, 0, 0,],\n",
    "                  [0, 0, 6, 4, 0, 8, 1, 0, 0,],\n",
    "                  [0, 4, 0, 0, 2, 0, 0, 9, 0,],\n",
    "                  [8, 0, 0, 0, 0, 0, 0, 0, 3,],\n",
    "                  [7, 0, 0, 3, 0, 1, 0, 0, 5,],\n",
    "                  [5, 6, 3, 0, 4, 0, 7, 2, 1,],\n",
    "                  ])\n",
    "print(board)"
   ]
  },
  {
   "cell_type": "code",
   "execution_count": null,
   "metadata": {},
   "outputs": [],
   "source": [
    "board.solve()    \n",
    "print(board)"
   ]
  },
  {
   "cell_type": "code",
   "execution_count": null,
   "metadata": {},
   "outputs": [],
   "source": [
    "board.isValid()"
   ]
  }
 ],
 "metadata": {
  "kernelspec": {
   "display_name": "base",
   "language": "python",
   "name": "python3"
  },
  "language_info": {
   "codemirror_mode": {
    "name": "ipython",
    "version": 3
   },
   "file_extension": ".py",
   "mimetype": "text/x-python",
   "name": "python",
   "nbconvert_exporter": "python",
   "pygments_lexer": "ipython3",
   "version": "3.9.12"
  }
 },
 "nbformat": 4,
 "nbformat_minor": 2
}
